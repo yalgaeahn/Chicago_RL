{
 "cells": [
  {
   "cell_type": "markdown",
   "id": "e1c81b1b",
   "metadata": {},
   "source": [
    "# GPU 어캐쓰는지 모르겠음\n",
    "오늘은 일단 tensorboard\n",
    "add scalar? 로 확인해야하는 량\n",
    "-Epoch 그냥 epoch\n",
    "-EpRet\n",
    "-TestEpRet\n",
    "-EpLen\n",
    "-TestEp\n",
    "-TotalEnvInteracts' 그냥 t"
   ]
  },
  {
   "cell_type": "code",
   "execution_count": 1,
   "id": "e3a2ba32",
   "metadata": {
    "ExecuteTime": {
     "end_time": "2023-11-16T23:28:58.068429Z",
     "start_time": "2023-11-16T23:28:56.965212Z"
    }
   },
   "outputs": [
    {
     "name": "stderr",
     "output_type": "stream",
     "text": [
      "/opt/conda/lib/python3.8/site-packages/scipy/__init__.py:146: UserWarning: A NumPy version >=1.16.5 and <1.23.0 is required for this version of SciPy (detected version 1.23.0\n",
      "  warnings.warn(f\"A NumPy version >={np_minversion} and <{np_maxversion}\"\n"
     ]
    }
   ],
   "source": [
    "from copy import deepcopy\n",
    "import numpy as np\n",
    "import torch\n",
    "from torch.optim import Adam\n",
    "import gym\n",
    "import time as time1\n",
    "import core\n",
    "#from spinup.utils.logx import EpochLogger"
   ]
  },
  {
   "cell_type": "code",
   "execution_count": 2,
   "id": "3c042e65",
   "metadata": {
    "ExecuteTime": {
     "end_time": "2023-11-16T23:28:58.072417Z",
     "start_time": "2023-11-16T23:28:58.070231Z"
    }
   },
   "outputs": [],
   "source": [
    "import torch\n",
    "import torch.nn as nn"
   ]
  },
  {
   "cell_type": "code",
   "execution_count": 3,
   "id": "5d2c8a6d",
   "metadata": {
    "ExecuteTime": {
     "end_time": "2023-11-16T23:28:58.682841Z",
     "start_time": "2023-11-16T23:28:58.074850Z"
    }
   },
   "outputs": [],
   "source": [
    "from torch.utils.tensorboard import SummaryWriter"
   ]
  },
  {
   "cell_type": "code",
   "execution_count": 4,
   "id": "7d627377",
   "metadata": {
    "ExecuteTime": {
     "end_time": "2023-11-16T23:28:59.901272Z",
     "start_time": "2023-11-16T23:28:58.684878Z"
    }
   },
   "outputs": [],
   "source": [
    "writer = SummaryWriter()"
   ]
  },
  {
   "cell_type": "code",
   "execution_count": 5,
   "id": "04c07090",
   "metadata": {
    "ExecuteTime": {
     "end_time": "2023-11-16T23:29:00.013645Z",
     "start_time": "2023-11-16T23:28:59.903348Z"
    }
   },
   "outputs": [],
   "source": [
    "import gymnasium as gym\n",
    "import gym_examples\n",
    "import envelope"
   ]
  },
  {
   "cell_type": "code",
   "execution_count": 6,
   "id": "88698551",
   "metadata": {
    "ExecuteTime": {
     "end_time": "2023-11-16T23:29:00.024092Z",
     "start_time": "2023-11-16T23:29:00.015929Z"
    }
   },
   "outputs": [],
   "source": [
    "class ReplayBuffer:\n",
    "    \"\"\"\n",
    "    A simple FIFO experience replay buffer for DDPG agents.\n",
    "    \"\"\"\n",
    "\n",
    "    def __init__(self, obs_dim, act_dim, size):\n",
    "        self.obs_buf = np.zeros(core.combined_shape(size, obs_dim), dtype=np.float32)\n",
    "        self.obs2_buf = np.zeros(core.combined_shape(size, obs_dim), dtype=np.float32)\n",
    "        self.act_buf = np.zeros(core.combined_shape(size, act_dim), dtype=np.float32)\n",
    "        self.rew_buf = np.zeros(size, dtype=np.float32)\n",
    "        self.done_buf = np.zeros(size, dtype=np.float32)\n",
    "        self.ptr, self.size, self.max_size = 0, 0, size\n",
    "\n",
    "    def store(self, obs, act, rew, next_obs, done):\n",
    "        self.obs_buf[self.ptr] = obs\n",
    "        self.obs2_buf[self.ptr] = next_obs\n",
    "        self.act_buf[self.ptr] = act\n",
    "        self.rew_buf[self.ptr] = rew\n",
    "        self.done_buf[self.ptr] = done\n",
    "        self.ptr = (self.ptr+1) % self.max_size\n",
    "        self.size = min(self.size+1, self.max_size)\n",
    "\n",
    "    def sample_batch(self, batch_size=32):\n",
    "        idxs = np.random.randint(0, self.size, size=batch_size) #batch_size 만큼 ReplayBuffer(D)에서 random sampling\n",
    "        batch = dict(obs=self.obs_buf[idxs],\n",
    "                     obs2=self.obs2_buf[idxs],\n",
    "                     act=self.act_buf[idxs],\n",
    "                     rew=self.rew_buf[idxs],\n",
    "                     done=self.done_buf[idxs])\n",
    "        return {k: torch.as_tensor(v, dtype=torch.float32) for k,v in batch.items()}"
   ]
  },
  {
   "cell_type": "code",
   "execution_count": 7,
   "id": "df2338db",
   "metadata": {
    "ExecuteTime": {
     "end_time": "2023-11-16T23:29:00.043338Z",
     "start_time": "2023-11-16T23:29:00.025696Z"
    }
   },
   "outputs": [
    {
     "name": "stderr",
     "output_type": "stream",
     "text": [
      "<ipython-input-7-20ba2ee0f664>:11: ComplexWarning: Casting complex values to real discards the imaginary part\n",
      "  initial_state = np.hstack((A(time).astype('float32'),B(time).astype('float32')))\n"
     ]
    }
   ],
   "source": [
    "Fs = 10\n",
    "N = 500\n",
    "trans_info = [[{'coeff': 1.0, 'amps': 5 * np.array([-0.0154, -0.011, -0.005414]), 'freqs': [6.48e-3, 5.622e-3, 3.7e-3]},\n",
    "               {'coeff': 0.01, 'amps': 5 * np.array([0.01237, -0.005816, -0.03928]), 'freqs': [0.01758, 0.005925, 0.002652]}],\n",
    "              [{'coeff': -0.01, 'amps': 5 * np.array([-0.01568, -0.01486, -0.0064]), 'freqs': [0.00737, 0.0072, -0.0039]},\n",
    "               {'coeff': 1.0, 'amps': 5 * np.array([-0.0154, -0.011, -0.005414]), 'freqs': [6.48e-3, 5.622e-3, 3.7e-3]}]]\n",
    "A = envelope.flattop(t0=5.,len=10.,amp=1.,w=1.)\n",
    "B = envelope.flattop(t0=15.,len=30.,amp=0.8,w=1.)\n",
    "time = np.arange(N) / Fs  # (ns) \n",
    "freq = np.fft.fftfreq(N, d=1/Fs) # (GHz)\n",
    "initial_state = np.hstack((A(time).astype('float32'),B(time).astype('float32'))) "
   ]
  },
  {
   "cell_type": "code",
   "execution_count": 8,
   "id": "b91edf76",
   "metadata": {
    "ExecuteTime": {
     "end_time": "2023-11-16T23:29:00.064764Z",
     "start_time": "2023-11-16T23:29:00.045438Z"
    }
   },
   "outputs": [],
   "source": [
    "env = gym.make(id='gym_examples/Quantum', Fs=Fs, N=N, initial_state=initial_state,trans_info=trans_info)"
   ]
  },
  {
   "cell_type": "code",
   "execution_count": 9,
   "id": "e5ca6ad7",
   "metadata": {
    "ExecuteTime": {
     "end_time": "2023-11-16T23:29:00.071509Z",
     "start_time": "2023-11-16T23:29:00.067899Z"
    }
   },
   "outputs": [],
   "source": [
    "torch.manual_seed(0)\n",
    "np.random.seed(0)"
   ]
  },
  {
   "cell_type": "code",
   "execution_count": 10,
   "id": "5d45da63",
   "metadata": {
    "ExecuteTime": {
     "end_time": "2023-11-16T23:29:00.085121Z",
     "start_time": "2023-11-16T23:29:00.073280Z"
    }
   },
   "outputs": [],
   "source": [
    "obs_dim = env.observation_space.shape[0] #(1000\n",
    "act_dim = env.action_space.shape[0]      #1000\n",
    "replay_size = int(1e6)\n",
    "#Action limit\n",
    "act_limit = env.action_space.high #?"
   ]
  },
  {
   "cell_type": "code",
   "execution_count": 11,
   "id": "fe9f120e",
   "metadata": {
    "ExecuteTime": {
     "end_time": "2023-11-16T23:29:00.144198Z",
     "start_time": "2023-11-16T23:29:00.087321Z"
    }
   },
   "outputs": [],
   "source": [
    "ac = core.MLPActorCritic(env.observation_space, env.action_space)\n",
    "ac_targ = deepcopy(ac)"
   ]
  },
  {
   "cell_type": "code",
   "execution_count": 12,
   "id": "66694f34",
   "metadata": {
    "ExecuteTime": {
     "end_time": "2023-11-16T23:29:00.147624Z",
     "start_time": "2023-11-16T23:29:00.145495Z"
    }
   },
   "outputs": [],
   "source": [
    "# Freeze target networks with respect to optimizers (only update ia polyak averaging)\n",
    "for p in ac_targ.parameters():\n",
    "    p.requires_grad = False\n",
    "    \n",
    "# 그냥 모든 weight and bias 가져와서 update 꺼버리기"
   ]
  },
  {
   "cell_type": "code",
   "execution_count": 13,
   "id": "f14cc589",
   "metadata": {
    "ExecuteTime": {
     "end_time": "2023-11-16T23:29:00.162494Z",
     "start_time": "2023-11-16T23:29:00.148833Z"
    }
   },
   "outputs": [],
   "source": [
    "#Experience buffer\n",
    "replay_buffer = ReplayBuffer(obs_dim=obs_dim, act_dim=act_dim, size=replay_size)"
   ]
  },
  {
   "cell_type": "code",
   "execution_count": 14,
   "id": "0fc7b1b5",
   "metadata": {
    "ExecuteTime": {
     "end_time": "2023-11-16T23:29:00.177105Z",
     "start_time": "2023-11-16T23:29:00.164089Z"
    }
   },
   "outputs": [],
   "source": [
    "# Set up function for computing DDPG Q-loss\n",
    "# 여기서 done 대신 terminated 씀\n",
    "def compute_loss_q(data):\n",
    "    o, a, r, o2, d = data['obs'], data['act'], data['rew'], data['obs2'], data['done']\n",
    "    \n",
    "    q = ac.q(o,a)\n",
    "    \n",
    "    #Bellman backup for Q function (target) \n",
    "    with torch.no_grad():\n",
    "        q_pi_targ = ac_targ.q(o2, ac_targ.pi(o2))\n",
    "        backup = r + gamma * (1-d) * q_pi_targ\n",
    "        \n",
    "    loss_q = ((q - backup)**2).mean()\n",
    "    \n",
    "    return loss_q"
   ]
  },
  {
   "cell_type": "code",
   "execution_count": 15,
   "id": "f29df0cf",
   "metadata": {
    "ExecuteTime": {
     "end_time": "2023-11-16T23:29:00.192311Z",
     "start_time": "2023-11-16T23:29:00.179361Z"
    }
   },
   "outputs": [],
   "source": [
    "# Set up function for computing DDPG pi loss\n",
    "def compute_loss_pi(data):\n",
    "    o = data['obs']\n",
    "    q_pi = ac.q(o, ac.pi(o))\n",
    "    return -q_pi.mean()"
   ]
  },
  {
   "cell_type": "code",
   "execution_count": 16,
   "id": "5c30e9eb",
   "metadata": {
    "ExecuteTime": {
     "end_time": "2023-11-16T23:29:00.208260Z",
     "start_time": "2023-11-16T23:29:00.194352Z"
    }
   },
   "outputs": [],
   "source": [
    "#ddpg 내부에서 정의된 parameter\n",
    "seed = 0\n",
    "steps_per_epoch = 1000\n",
    "epochs = 10\n",
    "replay_size = int(1e6)\n",
    "gamma = 0.99\n",
    "polyak = 0.995\n",
    "pi_lr = 1e-3\n",
    "q_lr = 1e-3\n",
    "batch_size = 100\n",
    "start_steps = 10000\n",
    "update_after = 1000\n",
    "update_every=50\n",
    "act_noise = 0.1\n",
    "max_ep_len = 1"
   ]
  },
  {
   "cell_type": "code",
   "execution_count": 17,
   "id": "60ad3ece",
   "metadata": {
    "ExecuteTime": {
     "end_time": "2023-11-16T23:29:00.223429Z",
     "start_time": "2023-11-16T23:29:00.210219Z"
    }
   },
   "outputs": [],
   "source": [
    "# Set up optimizers for policy and q-function\n",
    "pi_optimizer = Adam(ac.pi.parameters(), lr=pi_lr)\n",
    "q_optimizer = Adam(ac.q.parameters(), lr=q_lr)"
   ]
  },
  {
   "cell_type": "code",
   "execution_count": 18,
   "id": "1f76a739",
   "metadata": {
    "ExecuteTime": {
     "end_time": "2023-11-16T23:29:00.237763Z",
     "start_time": "2023-11-16T23:29:00.225438Z"
    }
   },
   "outputs": [],
   "source": [
    "# logger.setup_pytorch_saver(ac)"
   ]
  },
  {
   "cell_type": "code",
   "execution_count": 19,
   "id": "18a56a23",
   "metadata": {
    "ExecuteTime": {
     "end_time": "2023-11-16T23:29:00.252284Z",
     "start_time": "2023-11-16T23:29:00.239565Z"
    }
   },
   "outputs": [],
   "source": [
    "def update(data):\n",
    "# First run one gradient descent step for Q.\n",
    "    q_optimizer.zero_grad()\n",
    "    loss_q = compute_loss_q(data)\n",
    "    loss_q.backward()\n",
    "    q_optimizer.step()\n",
    "\n",
    "    # Freeze Q-network so you don't waste computational effort \n",
    "    # computing gradients for it during the policy learning step.\n",
    "    for p in ac.q.parameters():\n",
    "        p.requires_grad = False\n",
    "\n",
    "    # Next run one gradient descent step for pi.\n",
    "    pi_optimizer.zero_grad()\n",
    "    loss_pi = compute_loss_pi(data)\n",
    "    loss_pi.backward()\n",
    "    pi_optimizer.step()\n",
    "\n",
    "    # Unfreeze Q-network so you can optimize it at next DDPG step.\n",
    "    for p in ac.q.parameters():\n",
    "        p.requires_grad = True\n",
    "\n",
    "    # Record things\n",
    "    writer.add_scalar(\"QLoss/train\",loss_q.item())\n",
    "    writer.add_scalar(\"PiLoss/train\",loss_pi.item())\n",
    "    #logger.store(LossQ=loss_q.item(), LossPi=loss_pi.item(), **loss_info)\n",
    "\n",
    "    # Finally, update target networks by polyak averaging.\n",
    "    with torch.no_grad():\n",
    "        for p, p_targ in zip(ac.parameters(), ac_targ.parameters()):\n",
    "            # NB: We use an in-place operations \"mul_\", \"add_\" to update target\n",
    "            # params, as opposed to \"mul\" and \"add\", which would make new tensors.\n",
    "            p_targ.data.mul_(polyak)\n",
    "            p_targ.data.add_((1 - polyak) * p.data)"
   ]
  },
  {
   "cell_type": "code",
   "execution_count": 20,
   "id": "8d3bdc05",
   "metadata": {
    "ExecuteTime": {
     "end_time": "2023-11-16T23:29:00.266827Z",
     "start_time": "2023-11-16T23:29:00.253665Z"
    }
   },
   "outputs": [],
   "source": [
    "def get_action(o, noise_scale):\n",
    "    a = ac.act(torch.as_tensor(o, dtype=torch.float32))\n",
    "    a += noise_scale * np.random.randn(act_dim)\n",
    "    return np.clip(a, -act_limit, act_limit)"
   ]
  },
  {
   "cell_type": "code",
   "execution_count": 21,
   "id": "e1f2cbb2",
   "metadata": {
    "ExecuteTime": {
     "end_time": "2023-11-16T23:29:00.282108Z",
     "start_time": "2023-11-16T23:29:00.268774Z"
    }
   },
   "outputs": [],
   "source": [
    "def test_agent():\n",
    "    for j in range(num_test_episodes):\n",
    "        o, d, ep_ret, ep_len = test_env.reset(), False, 0, 0\n",
    "        while not(d or (ep_len == max_ep_len)):\n",
    "            # Take deterministic actions at test time (noise_scale=0)\n",
    "            o, r, d, _ = test_env.step(get_action(o, 0))\n",
    "            ep_ret += r\n",
    "            ep_len += 1\n",
    "        #logger.store(TestEpRet=ep_ret, TestEpLen=ep_len)\n",
    "        writer.add_scalar(\"EpRet/Test\",ep_ret,j)\n",
    "        writer.add_scalar(\"EpLen/Test\",ep_len,j)"
   ]
  },
  {
   "cell_type": "code",
   "execution_count": 22,
   "id": "28f54eba",
   "metadata": {
    "ExecuteTime": {
     "end_time": "2023-11-16T23:29:00.299911Z",
     "start_time": "2023-11-16T23:29:00.284284Z"
    }
   },
   "outputs": [],
   "source": [
    "#Prepare for interaction with environment\n",
    "total_steps = steps_per_epoch * epochs\n",
    "#start_time = time1.time()\n",
    "o, ep_ret, ep_len = env.reset()[0], 0, 0"
   ]
  },
  {
   "cell_type": "markdown",
   "id": "74774ac6",
   "metadata": {},
   "source": [
    "# 지금부터는 main  loop 입니당 호호호"
   ]
  },
  {
   "cell_type": "code",
   "execution_count": 23,
   "id": "8ff49a8f",
   "metadata": {
    "ExecuteTime": {
     "end_time": "2023-11-16T23:33:03.391901Z",
     "start_time": "2023-11-16T23:29:00.302081Z"
    },
    "code_folding": [],
    "scrolled": true
   },
   "outputs": [],
   "source": [
    "for t in range(total_steps):\n",
    "    \n",
    "    if t > start_steps:\n",
    "        a = get_action(o, act_noise)\n",
    "    else:\n",
    "        a = env.action_space.sample()\n",
    "    \n",
    "    # Step the env   d : terminated, _ :truncated=False, i : info={} \n",
    "    o2, r, d, _, i = env.step(a)\n",
    "    ep_ret += r\n",
    "    ep_len += 1\n",
    "    \n",
    "    # Ignoring done if 강제로 종료당하면 d = False 유지\n",
    "    d = False if ep_len==max_ep_len else d\n",
    "    \n",
    "    replay_buffer.store(o, a, r, o2, d)\n",
    "    \n",
    "    o = o2\n",
    "    \n",
    "    # End of trajectory handling\n",
    "    if d or (ep_len == max_ep_len):\n",
    "        #logger.store(EpRet = ep_ret, Eplen = ep_len)\n",
    "        writer.add_scalar(\"EpRet/Train\",ep_ret,t)\n",
    "        writer.add_scalar(\"EpLen/Train\",ep_len,t)\n",
    "        o, ep_ret, ep_len = env.reset()[0], 0, 0\n",
    "    \n",
    "    # Update handling\n",
    "    if t >= update_after and t % update_every == 0:\n",
    "        for _ in range(update_every):\n",
    "            batch = replay_buffer.sample_batch(batch_size)\n",
    "            update(data=batch)\n",
    "    \n",
    "    # End of epoch handling\n",
    "    if (t+1) % steps_per_epoch == 0:\n",
    "        epoch = (t+1) // steps_per_epoch\n",
    "        # Save model\n",
    "        \n",
    "    \n",
    "    \n",
    "    \n",
    "    "
   ]
  },
  {
   "cell_type": "code",
   "execution_count": 24,
   "id": "3d5ba4f5",
   "metadata": {
    "ExecuteTime": {
     "end_time": "2023-11-16T23:33:03.404871Z",
     "start_time": "2023-11-16T23:33:03.394907Z"
    }
   },
   "outputs": [
    {
     "data": {
      "text/plain": [
       "10000"
      ]
     },
     "execution_count": 24,
     "metadata": {},
     "output_type": "execute_result"
    }
   ],
   "source": [
    "total_steps"
   ]
  },
  {
   "cell_type": "code",
   "execution_count": 25,
   "id": "c6648030",
   "metadata": {
    "ExecuteTime": {
     "end_time": "2023-11-16T23:43:38.936035Z",
     "start_time": "2023-11-16T23:43:38.908680Z"
    }
   },
   "outputs": [],
   "source": [
    "writer.close()"
   ]
  },
  {
   "cell_type": "code",
   "execution_count": 32,
   "id": "aaa37169",
   "metadata": {
    "ExecuteTime": {
     "end_time": "2023-11-16T23:54:51.068194Z",
     "start_time": "2023-11-16T23:54:51.063791Z"
    }
   },
   "outputs": [],
   "source": [
    "ccc=ac.act(torch.as_tensor(initial_state, dtype=torch.float32))"
   ]
  },
  {
   "cell_type": "code",
   "execution_count": 33,
   "id": "6f00545c",
   "metadata": {
    "ExecuteTime": {
     "end_time": "2023-11-16T23:55:19.656584Z",
     "start_time": "2023-11-16T23:55:19.653588Z"
    }
   },
   "outputs": [],
   "source": [
    "import matplotlib.pyplot as plt"
   ]
  },
  {
   "cell_type": "code",
   "execution_count": 36,
   "id": "ed3cf6d1",
   "metadata": {
    "ExecuteTime": {
     "end_time": "2023-11-16T23:56:28.990969Z",
     "start_time": "2023-11-16T23:56:28.821018Z"
    }
   },
   "outputs": [
    {
     "data": {
      "text/plain": [
       "[<matplotlib.lines.Line2D at 0x7f91847cb190>]"
      ]
     },
     "execution_count": 36,
     "metadata": {},
     "output_type": "execute_result"
    },
    {
     "data": {
      "image/png": "[encoded data removed]",
      "text/plain": [
       "<Figure size 432x288 with 1 Axes>"
      ]
     },
     "metadata": {
      "needs_background": "light"
     },
     "output_type": "display_data"
    }
   ],
   "source": [
    "fig, ax =plt.subplots()\n",
    "ax.plot(time, ccc[500:])"
   ]
  },
  {
   "cell_type": "code",
   "execution_count": 40,
   "id": "32c3683f",
   "metadata": {
    "ExecuteTime": {
     "end_time": "2023-11-17T00:18:15.347475Z",
     "start_time": "2023-11-17T00:18:15.343211Z"
    }
   },
   "outputs": [
    {
     "data": {
      "text/plain": [
       "'/workspace/RL_CHICAGO/Chicago_RL'"
      ]
     },
     "execution_count": 40,
     "metadata": {},
     "output_type": "execute_result"
    }
   ],
   "source": [
    "import os\n",
    "os.getcwd()"
   ]
  },
  {
   "cell_type": "code",
   "execution_count": 41,
   "id": "c2a5ba20",
   "metadata": {
    "ExecuteTime": {
     "end_time": "2023-11-17T00:18:34.348735Z",
     "start_time": "2023-11-17T00:18:34.299457Z"
    }
   },
   "outputs": [],
   "source": [
    "torch.save(ac,'/workspace/RL_CHICAGO/Chicago_RL/SavedModel')"
   ]
  },
  {
   "cell_type": "code",
   "execution_count": null,
   "id": "b232213f",
   "metadata": {},
   "outputs": [],
   "source": []
  }
 ],
 "metadata": {
  "kernelspec": {
   "display_name": "Python 3",
   "language": "python",
   "name": "python3"
  },
  "language_info": {
   "codemirror_mode": {
    "name": "ipython",
    "version": 3
   },
   "file_extension": ".py",
   "mimetype": "text/x-python",
   "name": "python",
   "nbconvert_exporter": "python",
   "pygments_lexer": "ipython3",
   "version": "3.8.10"
  },
  "toc": {
   "base_numbering": 1,
   "nav_menu": {},
   "number_sections": false,
   "sideBar": true,
   "skip_h1_title": false,
   "title_cell": "Table of Contents",
   "title_sidebar": "Contents",
   "toc_cell": false,
   "toc_position": {},
   "toc_section_display": true,
   "toc_window_display": false
  }
 },
 "nbformat": 4,
 "nbformat_minor": 5
}
