{
 "cells": [
  {
   "cell_type": "code",
   "execution_count": 1,
   "id": "10917f77",
   "metadata": {
    "ExecuteTime": {
     "end_time": "2023-11-10T20:05:32.094860Z",
     "start_time": "2023-11-10T20:05:31.159013Z"
    }
   },
   "outputs": [
    {
     "name": "stderr",
     "output_type": "stream",
     "text": [
      "/opt/conda/lib/python3.8/site-packages/scipy/__init__.py:146: UserWarning: A NumPy version >=1.16.5 and <1.23.0 is required for this version of SciPy (detected version 1.24.4\n",
      "  warnings.warn(f\"A NumPy version >={np_minversion} and <{np_maxversion}\"\n"
     ]
    }
   ],
   "source": [
    "import gymnasium as gym\n",
    "from gym import spaces\n",
    "import numpy as np\n",
    "import torch\n",
    "import torch.nn as nn\n",
    "import envelope\n",
    "import matplotlib.pyplot as plt"
   ]
  },
  {
   "cell_type": "code",
   "execution_count": 2,
   "id": "398cd9f9",
   "metadata": {
    "ExecuteTime": {
     "end_time": "2023-11-10T20:05:32.099813Z",
     "start_time": "2023-11-10T20:05:32.096725Z"
    }
   },
   "outputs": [],
   "source": [
    "import gym_examples"
   ]
  },
  {
   "cell_type": "markdown",
   "id": "e6a3ba02",
   "metadata": {},
   "source": [
    "# Initial state generator 이거 오늘 만들어야겠다\n",
    "\n",
    "envelope.py \n",
    "flattop(t0, len, amp, w) 이렇게 4개 넣어줘야함\n",
    "\n",
    "A = envelope.flattop(t0=5.,len=10.,amp=1.,w=1.)\n",
    "B = envelope.flattop(t0=15.,len=30.,amp=0.8,w=1.)\n",
    "\n",
    "state_generator()  "
   ]
  },
  {
   "cell_type": "code",
   "execution_count": 3,
   "id": "ab4f501f",
   "metadata": {
    "ExecuteTime": {
     "end_time": "2023-11-10T20:05:32.114372Z",
     "start_time": "2023-11-10T20:05:32.102239Z"
    }
   },
   "outputs": [],
   "source": [
    "Fs = 10\n",
    "N = 500\n",
    "trans_info = [[{'coeff': 1.0, 'amps': 5 * np.array([-0.0154, -0.011, -0.005414]), 'freqs': [6.48e-3, 5.622e-3, 3.7e-3]},\n",
    "               {'coeff': 0.01, 'amps': 5 * np.array([0.01237, -0.005816, -0.03928]), 'freqs': [0.01758, 0.005925, 0.002652]}],\n",
    "              [{'coeff': -0.01, 'amps': 5 * np.array([-0.01568, -0.01486, -0.0064]), 'freqs': [0.00737, 0.0072, -0.0039]},\n",
    "               {'coeff': 1.0, 'amps': 5 * np.array([-0.0154, -0.011, -0.005414]), 'freqs': [6.48e-3, 5.622e-3, 3.7e-3]}]]"
   ]
  },
  {
   "cell_type": "code",
   "execution_count": 4,
   "id": "2c9e071c",
   "metadata": {
    "ExecuteTime": {
     "end_time": "2023-11-10T20:05:32.129455Z",
     "start_time": "2023-11-10T20:05:32.115750Z"
    }
   },
   "outputs": [],
   "source": [
    "A = envelope.flattop(t0=5.,len=10.,amp=1.,w=1.)\n",
    "B = envelope.flattop(t0=15.,len=30.,amp=0.8,w=1.)\n",
    "time = np.arange(N) / Fs  # (ns) \n",
    "freq = np.fft.fftfreq(N, d=1/Fs) # (GHz)\n",
    "initial_state = np.column_stack((A(time),B(time)))"
   ]
  },
  {
   "cell_type": "code",
   "execution_count": 5,
   "id": "6ba38bbb",
   "metadata": {
    "ExecuteTime": {
     "end_time": "2023-11-10T20:05:32.154221Z",
     "start_time": "2023-11-10T20:05:32.130887Z"
    }
   },
   "outputs": [
    {
     "name": "stderr",
     "output_type": "stream",
     "text": [
      "/opt/conda/lib/python3.8/site-packages/gymnasium/envs/registration.py:481: UserWarning: \u001b[33mWARN: The environment creator metadata doesn't include `render_modes`, contains: ['render.modes']\u001b[0m\n",
      "  logger.warn(\n"
     ]
    }
   ],
   "source": [
    "env = gym.make(id='gym_examples/Quantum', Fs=Fs, N=N, initial_state=initial_state,trans_info=trans_info)"
   ]
  },
  {
   "cell_type": "code",
   "execution_count": 6,
   "id": "78771c89",
   "metadata": {
    "ExecuteTime": {
     "end_time": "2023-11-10T20:06:10.701666Z",
     "start_time": "2023-11-10T20:06:10.694877Z"
    }
   },
   "outputs": [
    {
     "data": {
      "text/plain": [
       "Tuple(Box(-inf, inf, (500, 2), float32))"
      ]
     },
     "execution_count": 6,
     "metadata": {},
     "output_type": "execute_result"
    }
   ],
   "source": [
    "env.observation_space"
   ]
  },
  {
   "cell_type": "code",
   "execution_count": 7,
   "id": "888dd6aa",
   "metadata": {
    "ExecuteTime": {
     "end_time": "2023-11-10T20:06:25.876124Z",
     "start_time": "2023-11-10T20:06:25.872125Z"
    }
   },
   "outputs": [
    {
     "data": {
      "text/plain": [
       "Tuple(Box(0.0, 1.0, (500, 2), float32))"
      ]
     },
     "execution_count": 7,
     "metadata": {},
     "output_type": "execute_result"
    }
   ],
   "source": [
    "env.action_space"
   ]
  },
  {
   "cell_type": "code",
   "execution_count": 8,
   "id": "2103d695",
   "metadata": {
    "ExecuteTime": {
     "end_time": "2023-11-10T20:07:31.992182Z",
     "start_time": "2023-11-10T20:07:31.988472Z"
    }
   },
   "outputs": [
    {
     "data": {
      "text/plain": [
       "(-inf, inf)"
      ]
     },
     "execution_count": 8,
     "metadata": {},
     "output_type": "execute_result"
    }
   ],
   "source": [
    "env.reward_range"
   ]
  },
  {
   "cell_type": "code",
   "execution_count": null,
   "id": "8c5723b4",
   "metadata": {},
   "outputs": [],
   "source": []
  }
 ],
 "metadata": {
  "kernelspec": {
   "display_name": "Python 3",
   "language": "python",
   "name": "python3"
  },
  "language_info": {
   "codemirror_mode": {
    "name": "ipython",
    "version": 3
   },
   "file_extension": ".py",
   "mimetype": "text/x-python",
   "name": "python",
   "nbconvert_exporter": "python",
   "pygments_lexer": "ipython3",
   "version": "3.8.10"
  },
  "toc": {
   "base_numbering": 1,
   "nav_menu": {},
   "number_sections": false,
   "sideBar": true,
   "skip_h1_title": false,
   "title_cell": "Table of Contents",
   "title_sidebar": "Contents",
   "toc_cell": false,
   "toc_position": {},
   "toc_section_display": true,
   "toc_window_display": false
  }
 },
 "nbformat": 4,
 "nbformat_minor": 5
}
