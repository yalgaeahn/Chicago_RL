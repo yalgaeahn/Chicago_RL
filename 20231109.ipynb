{
 "cells": [
  {
   "cell_type": "code",
   "execution_count": 3,
   "id": "3fbe520a",
   "metadata": {
    "ExecuteTime": {
     "end_time": "2023-11-09T21:46:03.835817Z",
     "start_time": "2023-11-09T21:46:03.698841Z"
    }
   },
   "outputs": [],
   "source": [
    "import gymnasium as gym\n",
    "from gym import spaces\n",
    "import numpy as np\n",
    "import torch\n",
    "import torch.nn as nn\n",
    "import envelope\n",
    "import matplotlib.pyplot as plt"
   ]
  },
  {
   "cell_type": "code",
   "execution_count": 25,
   "id": "647728a3",
   "metadata": {
    "ExecuteTime": {
     "end_time": "2023-11-09T22:12:02.580040Z",
     "start_time": "2023-11-09T22:12:02.567238Z"
    }
   },
   "outputs": [],
   "source": [
    "class QuantumEnv(gym.Env):\n",
    "    metadata = {'render.modes' : ['human']}\n",
    "    \n",
    "    def __init__(self, Fs, N, initial_state,trans_info):\n",
    "        \"\"\"\n",
    "        PARAMETER\n",
    "            - Fs : sampling rate\n",
    "            - N : total number of samples\n",
    "            - initial_state : ndarray of shape (N,2)\n",
    "        \"\"\"\n",
    "        self.initial_state = initial_state\n",
    "        self.Fs = Fs\n",
    "        self.N = N \n",
    "        self.trans_info = trans_info\n",
    "        self.time = np.arange(N) / Fs  # (ns) \n",
    "        self.freq = np.fft.fftfreq(N, d=1/Fs) # (GHz)\n",
    "        \"\"\"\n",
    "        Define action space and observation space\n",
    "        They must be gymnasium.spaces objects\n",
    "        \"\"\"\n",
    "        #Initialize the agent\n",
    "        self.current_state = initial_state\n",
    "        self.transformed_state = self.get_transformed_state(self.current_state)\n",
    "        \n",
    "        #continuous state and action space 일단 ndarray (sampling_rate, 2)\n",
    "        self.action_space = spaces.Tuple((spaces.Box(low=0, high=1, shape=(N, 2)),))\n",
    "        self.observation_space = spaces.Tuple((spaces.Box(low=-np.inf, high=np.inf, shape=(N, 2)),))\n",
    "    \n",
    "    def _get_obs(self):\n",
    "        return self.current_state\n",
    "    \n",
    "    \n",
    "    def get_transformed_state(self, state):\n",
    "        \"\"\"\n",
    "        PARAMETER\n",
    "            - state : ndarray of shape (N, 2)\n",
    "            - trans_info: Placeholder for the transfer matrix parameters\n",
    "            - freq: Placeholder for the frequencies\n",
    "        RETURN\n",
    "            - transformed_a_ : ndarray of shape (N,)\n",
    "            - transformed_b_ : ndarray of shape (N,)\n",
    "        \"\"\"\n",
    "        A_ = np.fft.fft(state[:,0])\n",
    "        B_ = np.fft.fft(state[:,1])\n",
    "        transformer = envelope.ucsb_transformer(transfer_matrix_params=trans_info)\n",
    "\n",
    "        h_matrix = np.array([[transformer.transfer_matrix[i][j](np.pi*2*f) for f in freq] for i in range(2) for j in range(2)]).reshape(2, 2, -1)\n",
    "        h_11, h_12, h_21, h_22 = h_matrix[0][0], h_matrix[0][1], h_matrix[1][0], h_matrix[1][1]\n",
    "\n",
    "        transformed_A_ = h_11 * A_ + h_12 * B_\n",
    "        transformed_B_ = h_21 * A_ + h_22 * B_\n",
    "        \n",
    "        transformed_a_ = np.fft.ifft(transformed_A_)\n",
    "        transformed_b_ = np.fft.ifft(transformed_B_)\n",
    "        \n",
    "        return np.column_stack((transformed_a_, transformed_b_))\n",
    "    \n",
    "    def step(self, action):\n",
    "        #action을 return하는 get_action(observation)는 다른 곳에서 정의할거임\n",
    "        \"\"\"\n",
    "        PARAMETERS\n",
    "            -action: \n",
    "                an action provided by the agent to update the \n",
    "                environment state.\n",
    "        \n",
    "        RETURNS \n",
    "\n",
    "            -observation(ObsType):\n",
    "                An element of the environment’s observation_space \n",
    "                as the next observation due to the agent actions. \n",
    "        \n",
    "            -reward(SupportsFloat):\n",
    "                The reward as a result of taking the action\n",
    "        \n",
    "            -terminated(bool): \n",
    "                Whether the agent reaches the terminal state,\n",
    "                if true user needs to call `reset()`\n",
    "            \n",
    "            -truncated(bool):\n",
    "                Whether the truncation condition outside the scope of the MDP is satisfied.\n",
    "                if true user needs to call `reset()`\n",
    "        \n",
    "        \"\"\"\n",
    "     \n",
    "        def get_reward(self,action): #get_transformed state()로 얻은 state랑 current_state 비교해서\n",
    "            \"\"\"\n",
    "            get_transformed_state(current_state,action)으로 얻은 녀석이 innitial state와 얼마나 다른지  state ndarray (100,2)\n",
    "            \"\"\"\n",
    "            transformed_state = self.get_transformed_state(self.current_state +action)\n",
    "            \n",
    "            loss = nn.L1Loss()\n",
    "        \n",
    "            distance = loss(torch.from_numpy(transformed_state.real),torch.from_numpy(self.current_state.real))\n",
    "    \n",
    "            reward = -float(distance)\n",
    "            \n",
    "            return reward\n",
    "        \n",
    "        \n",
    "        done = None\n",
    "        \n",
    "        next_state = self.current_state + action # next state \n",
    "        \n",
    "        reward = get_reward(self,action)\n",
    "        \n",
    "        terminated = np.array_equal(self.current_state, self.transformed_state)\n",
    "        \n",
    "        if terminated==True:\n",
    "            done = True\n",
    "            self.current_state = reset() \n",
    "            self.transformed_state = self.get_transformed_state(self.current_state)\n",
    "            \n",
    "        else:\n",
    "            done = False\n",
    "            self.current_state = next_state\n",
    "            self.transformed_state = self.get_transformed_state(self.current_state)\n",
    "            \n",
    "    \n",
    "        \n",
    "        return next_state, reward, done, {} # 마지막 dict는 gym API에는 있는데 나는 안쓸거임\n",
    "    \n",
    "    def reset(self):\n",
    "        \"\"\"\n",
    "        나중에는 이부분 generator()로 대체할거임 일단은 주어진 initial_state에 대한 deterministic policy 학습할 수 있는지 \n",
    "        \"\"\"\n",
    "        return self.initial_state"
   ]
  },
  {
   "cell_type": "code",
   "execution_count": 26,
   "id": "d4531ec0",
   "metadata": {
    "ExecuteTime": {
     "end_time": "2023-11-09T22:12:02.766068Z",
     "start_time": "2023-11-09T22:12:02.763457Z"
    }
   },
   "outputs": [],
   "source": [
    "from gym.envs.registration import register"
   ]
  },
  {
   "cell_type": "code",
   "execution_count": 46,
   "id": "627c6160",
   "metadata": {
    "ExecuteTime": {
     "end_time": "2023-11-09T22:56:15.689840Z",
     "start_time": "2023-11-09T22:56:15.687260Z"
    }
   },
   "outputs": [],
   "source": [
    "register(\n",
    "    id='QuantumEnv-v0',\n",
    "    entry_point='20231109:QuantumEnv-v0',  # Replace 'gym_quantum.envs' with the module containing your environment class\n",
    ")"
   ]
  },
  {
   "cell_type": "code",
   "execution_count": 47,
   "id": "e35e8843",
   "metadata": {
    "ExecuteTime": {
     "end_time": "2023-11-09T22:56:19.448912Z",
     "start_time": "2023-11-09T22:56:19.435389Z"
    }
   },
   "outputs": [
    {
     "ename": "NameNotFound",
     "evalue": "Environment `QuantumEnv` doesn't exist.",
     "output_type": "error",
     "traceback": [
      "\u001b[0;31m---------------------------------------------------------------------------\u001b[0m",
      "\u001b[0;31mNameNotFound\u001b[0m                              Traceback (most recent call last)",
      "\u001b[0;32m<ipython-input-47-fa814b67b7e4>\u001b[0m in \u001b[0;36m<module>\u001b[0;34m\u001b[0m\n\u001b[0;32m----> 1\u001b[0;31m \u001b[0menv\u001b[0m \u001b[0;34m=\u001b[0m \u001b[0mgym\u001b[0m\u001b[0;34m.\u001b[0m\u001b[0mmake\u001b[0m\u001b[0;34m(\u001b[0m\u001b[0;34m'QuantumEnv-v0'\u001b[0m\u001b[0;34m)\u001b[0m\u001b[0;34m\u001b[0m\u001b[0;34m\u001b[0m\u001b[0m\n\u001b[0m\u001b[1;32m      2\u001b[0m \u001b[0mobs\u001b[0m \u001b[0;34m=\u001b[0m \u001b[0menv\u001b[0m\u001b[0;34m.\u001b[0m\u001b[0mreset\u001b[0m\u001b[0;34m(\u001b[0m\u001b[0;34m)\u001b[0m\u001b[0;34m\u001b[0m\u001b[0;34m\u001b[0m\u001b[0m\n\u001b[1;32m      3\u001b[0m \u001b[0;34m\u001b[0m\u001b[0m\n\u001b[1;32m      4\u001b[0m \u001b[0maction\u001b[0m \u001b[0;34m=\u001b[0m \u001b[0menv\u001b[0m\u001b[0;34m.\u001b[0m\u001b[0maction_space\u001b[0m\u001b[0;34m.\u001b[0m\u001b[0msample\u001b[0m\u001b[0;34m(\u001b[0m\u001b[0;34m)\u001b[0m\u001b[0;34m\u001b[0m\u001b[0;34m\u001b[0m\u001b[0m\n\u001b[1;32m      5\u001b[0m \u001b[0mobs\u001b[0m\u001b[0;34m,\u001b[0m \u001b[0mreward\u001b[0m\u001b[0;34m,\u001b[0m \u001b[0mdone\u001b[0m\u001b[0;34m,\u001b[0m \u001b[0minfo\u001b[0m \u001b[0;34m=\u001b[0m \u001b[0menv\u001b[0m\u001b[0;34m.\u001b[0m\u001b[0mstep\u001b[0m\u001b[0;34m(\u001b[0m\u001b[0maction\u001b[0m\u001b[0;34m)\u001b[0m\u001b[0;34m\u001b[0m\u001b[0;34m\u001b[0m\u001b[0m\n",
      "\u001b[0;32m/opt/conda/lib/python3.8/site-packages/gymnasium/envs/registration.py\u001b[0m in \u001b[0;36mmake\u001b[0;34m(id, max_episode_steps, autoreset, apply_api_compatibility, disable_env_checker, **kwargs)\u001b[0m\n\u001b[1;32m    739\u001b[0m \u001b[0;34m\u001b[0m\u001b[0m\n\u001b[1;32m    740\u001b[0m         \u001b[0;31m# The environment name can include an unloaded module in \"module:env_name\" style\u001b[0m\u001b[0;34m\u001b[0m\u001b[0;34m\u001b[0m\u001b[0;34m\u001b[0m\u001b[0m\n\u001b[0;32m--> 741\u001b[0;31m         \u001b[0menv_spec\u001b[0m \u001b[0;34m=\u001b[0m \u001b[0m_find_spec\u001b[0m\u001b[0;34m(\u001b[0m\u001b[0mid\u001b[0m\u001b[0;34m)\u001b[0m\u001b[0;34m\u001b[0m\u001b[0;34m\u001b[0m\u001b[0m\n\u001b[0m\u001b[1;32m    742\u001b[0m \u001b[0;34m\u001b[0m\u001b[0m\n\u001b[1;32m    743\u001b[0m     \u001b[0;32massert\u001b[0m \u001b[0misinstance\u001b[0m\u001b[0;34m(\u001b[0m\u001b[0menv_spec\u001b[0m\u001b[0;34m,\u001b[0m \u001b[0mEnvSpec\u001b[0m\u001b[0;34m)\u001b[0m\u001b[0;34m\u001b[0m\u001b[0;34m\u001b[0m\u001b[0m\n",
      "\u001b[0;32m/opt/conda/lib/python3.8/site-packages/gymnasium/envs/registration.py\u001b[0m in \u001b[0;36m_find_spec\u001b[0;34m(env_id)\u001b[0m\n\u001b[1;32m    525\u001b[0m \u001b[0;34m\u001b[0m\u001b[0m\n\u001b[1;32m    526\u001b[0m     \u001b[0;32mif\u001b[0m \u001b[0menv_spec\u001b[0m \u001b[0;32mis\u001b[0m \u001b[0;32mNone\u001b[0m\u001b[0;34m:\u001b[0m\u001b[0;34m\u001b[0m\u001b[0;34m\u001b[0m\u001b[0m\n\u001b[0;32m--> 527\u001b[0;31m         \u001b[0m_check_version_exists\u001b[0m\u001b[0;34m(\u001b[0m\u001b[0mns\u001b[0m\u001b[0;34m,\u001b[0m \u001b[0mname\u001b[0m\u001b[0;34m,\u001b[0m \u001b[0mversion\u001b[0m\u001b[0;34m)\u001b[0m\u001b[0;34m\u001b[0m\u001b[0;34m\u001b[0m\u001b[0m\n\u001b[0m\u001b[1;32m    528\u001b[0m         raise error.Error(\n\u001b[1;32m    529\u001b[0m             \u001b[0;34mf\"No registered env with id: {env_name}. Did you register it, or import the package that registers it? Use `gymnasium.pprint_registry()` to see all of the registered environments.\"\u001b[0m\u001b[0;34m\u001b[0m\u001b[0;34m\u001b[0m\u001b[0m\n",
      "\u001b[0;32m/opt/conda/lib/python3.8/site-packages/gymnasium/envs/registration.py\u001b[0m in \u001b[0;36m_check_version_exists\u001b[0;34m(ns, name, version)\u001b[0m\n\u001b[1;32m    391\u001b[0m         \u001b[0;32mreturn\u001b[0m\u001b[0;34m\u001b[0m\u001b[0;34m\u001b[0m\u001b[0m\n\u001b[1;32m    392\u001b[0m \u001b[0;34m\u001b[0m\u001b[0m\n\u001b[0;32m--> 393\u001b[0;31m     \u001b[0m_check_name_exists\u001b[0m\u001b[0;34m(\u001b[0m\u001b[0mns\u001b[0m\u001b[0;34m,\u001b[0m \u001b[0mname\u001b[0m\u001b[0;34m)\u001b[0m\u001b[0;34m\u001b[0m\u001b[0;34m\u001b[0m\u001b[0m\n\u001b[0m\u001b[1;32m    394\u001b[0m     \u001b[0;32mif\u001b[0m \u001b[0mversion\u001b[0m \u001b[0;32mis\u001b[0m \u001b[0;32mNone\u001b[0m\u001b[0;34m:\u001b[0m\u001b[0;34m\u001b[0m\u001b[0;34m\u001b[0m\u001b[0m\n\u001b[1;32m    395\u001b[0m         \u001b[0;32mreturn\u001b[0m\u001b[0;34m\u001b[0m\u001b[0;34m\u001b[0m\u001b[0m\n",
      "\u001b[0;32m/opt/conda/lib/python3.8/site-packages/gymnasium/envs/registration.py\u001b[0m in \u001b[0;36m_check_name_exists\u001b[0;34m(ns, name)\u001b[0m\n\u001b[1;32m    368\u001b[0m     \u001b[0msuggestion_msg\u001b[0m \u001b[0;34m=\u001b[0m \u001b[0;34mf\" Did you mean: `{suggestion[0]}`?\"\u001b[0m \u001b[0;32mif\u001b[0m \u001b[0msuggestion\u001b[0m \u001b[0;32melse\u001b[0m \u001b[0;34m\"\"\u001b[0m\u001b[0;34m\u001b[0m\u001b[0;34m\u001b[0m\u001b[0m\n\u001b[1;32m    369\u001b[0m \u001b[0;34m\u001b[0m\u001b[0m\n\u001b[0;32m--> 370\u001b[0;31m     raise error.NameNotFound(\n\u001b[0m\u001b[1;32m    371\u001b[0m         \u001b[0;34mf\"Environment `{name}` doesn't exist{namespace_msg}.{suggestion_msg}\"\u001b[0m\u001b[0;34m\u001b[0m\u001b[0;34m\u001b[0m\u001b[0m\n\u001b[1;32m    372\u001b[0m     )\n",
      "\u001b[0;31mNameNotFound\u001b[0m: Environment `QuantumEnv` doesn't exist."
     ]
    }
   ],
   "source": [
    "env = gym.make('QuantumEnv-v0')\n",
    "obs = env.reset()\n",
    "\n",
    "action = env.action_space.sample()\n",
    "obs, reward, done, info = env.step(action)\n",
    "env.render()"
   ]
  },
  {
   "cell_type": "code",
   "execution_count": 37,
   "id": "b5dda982",
   "metadata": {
    "ExecuteTime": {
     "end_time": "2023-11-09T22:21:45.179658Z",
     "start_time": "2023-11-09T22:21:45.176093Z"
    }
   },
   "outputs": [
    {
     "ename": "SyntaxError",
     "evalue": "invalid syntax (<ipython-input-37-3d42809b0074>, line 1)",
     "output_type": "error",
     "traceback": [
      "\u001b[0;36m  File \u001b[0;32m\"<ipython-input-37-3d42809b0074>\"\u001b[0;36m, line \u001b[0;32m1\u001b[0m\n\u001b[0;31m    gym.envs.\u001b[0m\n\u001b[0m             ^\u001b[0m\n\u001b[0;31mSyntaxError\u001b[0m\u001b[0;31m:\u001b[0m invalid syntax\n"
     ]
    }
   ],
   "source": [
    "gym.envs."
   ]
  },
  {
   "cell_type": "code",
   "execution_count": null,
   "id": "ccb3b981",
   "metadata": {},
   "outputs": [],
   "source": []
  },
  {
   "cell_type": "code",
   "execution_count": null,
   "id": "abddd651",
   "metadata": {},
   "outputs": [],
   "source": []
  },
  {
   "cell_type": "code",
   "execution_count": null,
   "id": "b8eb3d51",
   "metadata": {},
   "outputs": [],
   "source": []
  }
 ],
 "metadata": {
  "kernelspec": {
   "display_name": "Python 3",
   "language": "python",
   "name": "python3"
  },
  "language_info": {
   "codemirror_mode": {
    "name": "ipython",
    "version": 3
   },
   "file_extension": ".py",
   "mimetype": "text/x-python",
   "name": "python",
   "nbconvert_exporter": "python",
   "pygments_lexer": "ipython3",
   "version": "3.8.10"
  },
  "toc": {
   "base_numbering": 1,
   "nav_menu": {},
   "number_sections": false,
   "sideBar": true,
   "skip_h1_title": false,
   "title_cell": "Table of Contents",
   "title_sidebar": "Contents",
   "toc_cell": false,
   "toc_position": {},
   "toc_section_display": true,
   "toc_window_display": false
  }
 },
 "nbformat": 4,
 "nbformat_minor": 5
}
