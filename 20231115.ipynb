{
 "cells": [
  {
   "cell_type": "code",
   "execution_count": 1,
   "id": "820149b3",
   "metadata": {
    "ExecuteTime": {
     "end_time": "2023-11-16T02:51:33.217079Z",
     "start_time": "2023-11-16T02:51:33.022538Z"
    }
   },
   "outputs": [
    {
     "name": "stderr",
     "output_type": "stream",
     "text": [
      "/opt/conda/lib/python3.8/site-packages/scipy/__init__.py:146: UserWarning: A NumPy version >=1.16.5 and <1.23.0 is required for this version of SciPy (detected version 1.23.0\n",
      "  warnings.warn(f\"A NumPy version >={np_minversion} and <{np_maxversion}\"\n"
     ]
    }
   ],
   "source": [
    "import envelope\n",
    "import numpy as np"
   ]
  },
  {
   "cell_type": "code",
   "execution_count": 2,
   "id": "cdbb5579",
   "metadata": {
    "ExecuteTime": {
     "end_time": "2023-11-16T02:51:33.224695Z",
     "start_time": "2023-11-16T02:51:33.218509Z"
    }
   },
   "outputs": [
    {
     "name": "stderr",
     "output_type": "stream",
     "text": [
      "<ipython-input-2-20ba2ee0f664>:11: ComplexWarning: Casting complex values to real discards the imaginary part\n",
      "  initial_state = np.hstack((A(time).astype('float32'),B(time).astype('float32')))\n"
     ]
    }
   ],
   "source": [
    "Fs = 10\n",
    "N = 500\n",
    "trans_info = [[{'coeff': 1.0, 'amps': 5 * np.array([-0.0154, -0.011, -0.005414]), 'freqs': [6.48e-3, 5.622e-3, 3.7e-3]},\n",
    "               {'coeff': 0.01, 'amps': 5 * np.array([0.01237, -0.005816, -0.03928]), 'freqs': [0.01758, 0.005925, 0.002652]}],\n",
    "              [{'coeff': -0.01, 'amps': 5 * np.array([-0.01568, -0.01486, -0.0064]), 'freqs': [0.00737, 0.0072, -0.0039]},\n",
    "               {'coeff': 1.0, 'amps': 5 * np.array([-0.0154, -0.011, -0.005414]), 'freqs': [6.48e-3, 5.622e-3, 3.7e-3]}]]\n",
    "A = envelope.flattop(t0=5.,len=10.,amp=1.,w=1.)\n",
    "B = envelope.flattop(t0=15.,len=30.,amp=0.8,w=1.)\n",
    "time = np.arange(N) / Fs  # (ns) \n",
    "freq = np.fft.fftfreq(N, d=1/Fs) # (GHz)\n",
    "initial_state = np.hstack((A(time).astype('float32'),B(time).astype('float32'))) "
   ]
  },
  {
   "cell_type": "code",
   "execution_count": 3,
   "id": "be5be860",
   "metadata": {
    "ExecuteTime": {
     "end_time": "2023-11-16T02:51:33.241685Z",
     "start_time": "2023-11-16T02:51:33.227006Z"
    }
   },
   "outputs": [
    {
     "data": {
      "text/plain": [
       "(1000,)"
      ]
     },
     "execution_count": 3,
     "metadata": {},
     "output_type": "execute_result"
    }
   ],
   "source": [
    "initial_state.shape"
   ]
  },
  {
   "cell_type": "code",
   "execution_count": 4,
   "id": "61d66058",
   "metadata": {
    "ExecuteTime": {
     "end_time": "2023-11-16T02:51:33.258703Z",
     "start_time": "2023-11-16T02:51:33.243498Z"
    }
   },
   "outputs": [],
   "source": [
    "import matplotlib.pyplot as plt"
   ]
  },
  {
   "cell_type": "code",
   "execution_count": 5,
   "id": "05bf6b0a",
   "metadata": {
    "ExecuteTime": {
     "end_time": "2023-11-16T02:51:33.401663Z",
     "start_time": "2023-11-16T02:51:33.260917Z"
    }
   },
   "outputs": [
    {
     "data": {
      "text/plain": [
       "[<matplotlib.lines.Line2D at 0x7f3c5da36a30>]"
      ]
     },
     "execution_count": 5,
     "metadata": {},
     "output_type": "execute_result"
    },
    {
     "data": {
      "image/png": "[encoded data removed]",
      "text/plain": [
       "<Figure size 432x288 with 1 Axes>"
      ]
     },
     "metadata": {
      "needs_background": "light"
     },
     "output_type": "display_data"
    }
   ],
   "source": [
    "fig, ax =plt.subplots()\n",
    "ax.plot(time,initial_state[500:])"
   ]
  },
  {
   "cell_type": "code",
   "execution_count": 18,
   "id": "e4e19d2f",
   "metadata": {
    "ExecuteTime": {
     "end_time": "2023-11-16T02:53:03.502161Z",
     "start_time": "2023-11-16T02:53:03.498861Z"
    }
   },
   "outputs": [],
   "source": [
    "import gymnasium as gym\n",
    "import gym_examples\n",
    "import core\n",
    "from copy import deepcopy"
   ]
  },
  {
   "cell_type": "code",
   "execution_count": 19,
   "id": "a2bdd7a4",
   "metadata": {
    "ExecuteTime": {
     "end_time": "2023-11-16T02:53:04.248835Z",
     "start_time": "2023-11-16T02:53:04.236781Z"
    }
   },
   "outputs": [],
   "source": [
    "env = gym.make(id='gym_examples/Quantum', Fs=Fs, N=N, initial_state=initial_state,trans_info=trans_info)"
   ]
  },
  {
   "cell_type": "code",
   "execution_count": 20,
   "id": "8d4fdbb7",
   "metadata": {
    "ExecuteTime": {
     "end_time": "2023-11-16T02:53:04.435536Z",
     "start_time": "2023-11-16T02:53:04.413846Z"
    }
   },
   "outputs": [],
   "source": [
    "ac = core.MLPActorCritic(env.observation_space, env.action_space)\n",
    "ac_targ = deepcopy(ac)"
   ]
  },
  {
   "cell_type": "code",
   "execution_count": 21,
   "id": "abd0ef27",
   "metadata": {
    "ExecuteTime": {
     "end_time": "2023-11-16T02:53:23.731135Z",
     "start_time": "2023-11-16T02:53:23.726290Z"
    }
   },
   "outputs": [
    {
     "data": {
      "text/plain": [
       "<bound method Module.state_dict of MLPActorCritic(\n",
       "  (pi): MLPActor(\n",
       "    (pi): Sequential(\n",
       "      (0): Linear(in_features=1000, out_features=256, bias=True)\n",
       "      (1): ReLU()\n",
       "      (2): Linear(in_features=256, out_features=256, bias=True)\n",
       "      (3): ReLU()\n",
       "      (4): Linear(in_features=256, out_features=1000, bias=True)\n",
       "      (5): Tanh()\n",
       "    )\n",
       "  )\n",
       "  (q): MLPQFunction(\n",
       "    (q): Sequential(\n",
       "      (0): Linear(in_features=2000, out_features=256, bias=True)\n",
       "      (1): ReLU()\n",
       "      (2): Linear(in_features=256, out_features=256, bias=True)\n",
       "      (3): ReLU()\n",
       "      (4): Linear(in_features=256, out_features=1, bias=True)\n",
       "      (5): Identity()\n",
       "    )\n",
       "  )\n",
       ")>"
      ]
     },
     "execution_count": 21,
     "metadata": {},
     "output_type": "execute_result"
    }
   ],
   "source": [
    "ac.state_dict"
   ]
  },
  {
   "cell_type": "code",
   "execution_count": null,
   "id": "380c82ab",
   "metadata": {},
   "outputs": [],
   "source": []
  },
  {
   "cell_type": "code",
   "execution_count": null,
   "id": "d9a05538",
   "metadata": {},
   "outputs": [],
   "source": []
  }
 ],
 "metadata": {
  "kernelspec": {
   "display_name": "Python 3",
   "language": "python",
   "name": "python3"
  },
  "language_info": {
   "codemirror_mode": {
    "name": "ipython",
    "version": 3
   },
   "file_extension": ".py",
   "mimetype": "text/x-python",
   "name": "python",
   "nbconvert_exporter": "python",
   "pygments_lexer": "ipython3",
   "version": "3.8.10"
  },
  "toc": {
   "base_numbering": 1,
   "nav_menu": {},
   "number_sections": false,
   "sideBar": true,
   "skip_h1_title": false,
   "title_cell": "Table of Contents",
   "title_sidebar": "Contents",
   "toc_cell": false,
   "toc_position": {},
   "toc_section_display": true,
   "toc_window_display": false
  }
 },
 "nbformat": 4,
 "nbformat_minor": 5
}
