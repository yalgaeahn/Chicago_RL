{
 "cells": [
  {
   "cell_type": "markdown",
   "id": "aadb0e7d",
   "metadata": {},
   "source": [
    "core.py 가지고 놀 예정"
   ]
  },
  {
   "cell_type": "code",
   "execution_count": 1,
   "id": "83ec625b",
   "metadata": {
    "ExecuteTime": {
     "end_time": "2023-11-14T19:25:23.963957Z",
     "start_time": "2023-11-14T19:25:23.091794Z"
    }
   },
   "outputs": [
    {
     "name": "stderr",
     "output_type": "stream",
     "text": [
      "/opt/conda/lib/python3.8/site-packages/scipy/__init__.py:146: UserWarning: A NumPy version >=1.16.5 and <1.23.0 is required for this version of SciPy (detected version 1.23.0\n",
      "  warnings.warn(f\"A NumPy version >={np_minversion} and <{np_maxversion}\"\n"
     ]
    }
   ],
   "source": [
    "import numpy as np\n",
    "import scipy.signal\n",
    "\n",
    "import torch\n",
    "import torch.nn as nn\n",
    "\n",
    "\n",
    "def combined_shape(length, shape=None):\n",
    "    if shape is None:\n",
    "        return (length,)\n",
    "    return (length, shape) if np.isscalar(shape) else (length, *shape)\n",
    "\n",
    "def mlp(sizes, activation, output_activation=nn.Identity):\n",
    "    layers = []\n",
    "    for j in range(len(sizes)-1):\n",
    "        act = activation if j < len(sizes)-2 else output_activation\n",
    "        layers += [nn.Linear(sizes[j], sizes[j+1]), act()]\n",
    "    return nn.Sequential(*layers)\n",
    "\n",
    "def count_vars(module):\n",
    "    return sum([np.prod(p.shape) for p in module.parameters()])\n",
    "\n",
    "class MLPActor(nn.Module):\n",
    "\n",
    "    def __init__(self, obs_dim, act_dim, hidden_sizes, activation, act_limit):\n",
    "        super().__init__()\n",
    "        pi_sizes = [obs_dim] + list(hidden_sizes) + [act_dim]\n",
    "        self.pi = mlp(pi_sizes, activation, nn.Tanh)\n",
    "        self.act_limit = act_limit\n",
    "\n",
    "    def forward(self, obs):\n",
    "        # Return output from network scaled to action space limits.\n",
    "        return self.act_limit * self.pi(obs)\n",
    "\n",
    "class MLPQFunction(nn.Module):\n",
    "\n",
    "    def __init__(self, obs_dim, act_dim, hidden_sizes, activation):\n",
    "        super().__init__()\n",
    "        self.q = mlp([obs_dim + act_dim] + list(hidden_sizes) + [1], activation)\n",
    "\n",
    "    def forward(self, obs, act):\n",
    "        q = self.q(torch.cat([obs, act], dim=-1))\n",
    "        return torch.squeeze(q, -1) # Critical to ensure q has right shape.\n",
    "\n",
    "class MLPActorCritic(nn.Module):\n",
    "\n",
    "    def __init__(self, observation_space, action_space, hidden_sizes=(256,256),\n",
    "                 activation=nn.ReLU):\n",
    "        super().__init__()\n",
    "\n",
    "        obs_dim = observation_space.shape[0]\n",
    "        act_dim = action_space.shape[0]\n",
    "        act_limit = action_space.high[0]\n",
    "\n",
    "        # build policy and value functions\n",
    "        self.pi = MLPActor(obs_dim, act_dim, hidden_sizes, activation, act_limit)\n",
    "        self.q = MLPQFunction(obs_dim, act_dim, hidden_sizes, activation)\n",
    "\n",
    "    def act(self, obs):\n",
    "        with torch.no_grad():\n",
    "            return self.pi(obs).numpy()\n"
   ]
  },
  {
   "cell_type": "code",
   "execution_count": 7,
   "id": "bbade40f",
   "metadata": {
    "ExecuteTime": {
     "end_time": "2023-11-14T19:56:27.138172Z",
     "start_time": "2023-11-14T19:56:27.134737Z"
    }
   },
   "outputs": [],
   "source": [
    "import gymnasium as gym\n",
    "import gym_examples\n",
    "import envelope\n",
    "import core"
   ]
  },
  {
   "cell_type": "code",
   "execution_count": 3,
   "id": "70eb6ab6",
   "metadata": {
    "ExecuteTime": {
     "end_time": "2023-11-14T19:30:19.923936Z",
     "start_time": "2023-11-14T19:30:19.912700Z"
    }
   },
   "outputs": [
    {
     "name": "stderr",
     "output_type": "stream",
     "text": [
      "<ipython-input-3-ed01e9aa3c47>:11: ComplexWarning: Casting complex values to real discards the imaginary part\n",
      "  initial_state = np.column_stack((A(time).astype('float32'),B(time).astype('float32')))\n"
     ]
    }
   ],
   "source": [
    "Fs = 10\n",
    "N = 500\n",
    "trans_info = [[{'coeff': 1.0, 'amps': 5 * np.array([-0.0154, -0.011, -0.005414]), 'freqs': [6.48e-3, 5.622e-3, 3.7e-3]},\n",
    "               {'coeff': 0.01, 'amps': 5 * np.array([0.01237, -0.005816, -0.03928]), 'freqs': [0.01758, 0.005925, 0.002652]}],\n",
    "              [{'coeff': -0.01, 'amps': 5 * np.array([-0.01568, -0.01486, -0.0064]), 'freqs': [0.00737, 0.0072, -0.0039]},\n",
    "               {'coeff': 1.0, 'amps': 5 * np.array([-0.0154, -0.011, -0.005414]), 'freqs': [6.48e-3, 5.622e-3, 3.7e-3]}]]\n",
    "A = envelope.flattop(t0=5.,len=10.,amp=1.,w=1.)\n",
    "B = envelope.flattop(t0=15.,len=30.,amp=0.8,w=1.)\n",
    "time = np.arange(N) / Fs  # (ns) \n",
    "freq = np.fft.fftfreq(N, d=1/Fs) # (GHz)\n",
    "initial_state = np.column_stack((A(time).astype('float32'),B(time).astype('float32'))) "
   ]
  },
  {
   "cell_type": "code",
   "execution_count": 4,
   "id": "d577f26c",
   "metadata": {
    "ExecuteTime": {
     "end_time": "2023-11-14T19:30:32.781682Z",
     "start_time": "2023-11-14T19:30:32.769628Z"
    }
   },
   "outputs": [],
   "source": [
    "env = gym.make(id='gym_examples/Quantum', Fs=Fs, N=N, initial_state=initial_state,trans_info=trans_info)"
   ]
  },
  {
   "cell_type": "markdown",
   "id": "6dd96148",
   "metadata": {},
   "source": [
    "# 밑에 애들을 잘 정의해서 원하는 MLPActor랑 MLPQFunction 만들어야함"
   ]
  },
  {
   "cell_type": "code",
   "execution_count": 11,
   "id": "19f2f911",
   "metadata": {
    "ExecuteTime": {
     "end_time": "2023-11-14T19:56:41.052173Z",
     "start_time": "2023-11-14T19:56:41.049772Z"
    }
   },
   "outputs": [],
   "source": [
    "actor_critic=core.MLPActorCritic"
   ]
  },
  {
   "cell_type": "code",
   "execution_count": null,
   "id": "7c68b18f",
   "metadata": {},
   "outputs": [],
   "source": [
    "#ac = actor_critic(env.observation_space, env.)"
   ]
  },
  {
   "cell_type": "code",
   "execution_count": 60,
   "id": "4aab242a",
   "metadata": {
    "ExecuteTime": {
     "end_time": "2023-11-14T20:50:48.642224Z",
     "start_time": "2023-11-14T20:50:48.639071Z"
    }
   },
   "outputs": [],
   "source": [
    "obs_dim = env.observation_space.shape[1]\n",
    "act_dim = env.observation_space.shape[1]\n",
    "act_limit = env.action_space.high\n",
    "activation =nn.ReLU"
   ]
  },
  {
   "cell_type": "code",
   "execution_count": 69,
   "id": "11694744",
   "metadata": {
    "ExecuteTime": {
     "end_time": "2023-11-14T20:52:05.177141Z",
     "start_time": "2023-11-14T20:52:05.174306Z"
    }
   },
   "outputs": [],
   "source": [
    "pi_sizes = [obs_dim] + list(hidden_sizes) + [act_dim] # [2]+[256,256]+[2]"
   ]
  },
  {
   "cell_type": "code",
   "execution_count": 66,
   "id": "6a55ce8b",
   "metadata": {
    "ExecuteTime": {
     "end_time": "2023-11-14T20:51:10.039869Z",
     "start_time": "2023-11-14T20:51:10.035607Z"
    }
   },
   "outputs": [],
   "source": [
    "def mlp(sizes, activation, output_activation=nn.Identity):\n",
    "    layers = []\n",
    "    for j in range(len(sizes)-1):\n",
    "        act = activation if j < len(sizes)-2 else output_activation\n",
    "        layers += [nn.Linear(sizes[j], sizes[j+1]), act()]\n",
    "    return nn.Sequential(*layers)"
   ]
  },
  {
   "cell_type": "code",
   "execution_count": 143,
   "id": "070197da",
   "metadata": {
    "ExecuteTime": {
     "end_time": "2023-11-15T03:14:02.501624Z",
     "start_time": "2023-11-15T03:14:02.498205Z"
    }
   },
   "outputs": [
    {
     "ename": "SyntaxError",
     "evalue": "unexpected EOF while parsing (<ipython-input-143-50847614783d>, line 1)",
     "output_type": "error",
     "traceback": [
      "\u001b[0;36m  File \u001b[0;32m\"<ipython-input-143-50847614783d>\"\u001b[0;36m, line \u001b[0;32m1\u001b[0m\n\u001b[0;31m    def mymlp(sizes, activation, output_activation=nn.Identity):\u001b[0m\n\u001b[0m                                                                ^\u001b[0m\n\u001b[0;31mSyntaxError\u001b[0m\u001b[0;31m:\u001b[0m unexpected EOF while parsing\n"
     ]
    }
   ],
   "source": [
    "def mymlp(sizes, activation, output_activation=nn.Identity):\n",
    "    "
   ]
  },
  {
   "cell_type": "code",
   "execution_count": 77,
   "id": "e1f3f99a",
   "metadata": {
    "ExecuteTime": {
     "end_time": "2023-11-14T20:53:44.711397Z",
     "start_time": "2023-11-14T20:53:44.707401Z"
    }
   },
   "outputs": [],
   "source": [
    "layer=mlp(pi_sizes,activation,nn.Tanh)"
   ]
  },
  {
   "cell_type": "code",
   "execution_count": 139,
   "id": "11593476",
   "metadata": {
    "ExecuteTime": {
     "end_time": "2023-11-14T22:10:10.366726Z",
     "start_time": "2023-11-14T22:10:10.364174Z"
    }
   },
   "outputs": [],
   "source": [
    "flattenlayer=nn.Flatten(0,1)"
   ]
  },
  {
   "cell_type": "code",
   "execution_count": 140,
   "id": "95d924f4",
   "metadata": {
    "ExecuteTime": {
     "end_time": "2023-11-14T22:10:10.637327Z",
     "start_time": "2023-11-14T22:10:10.634253Z"
    }
   },
   "outputs": [],
   "source": [
    "s=np.random.randn(500,2)\n",
    "tensor=torch.tensor(s,dtype=torch.float32)"
   ]
  },
  {
   "cell_type": "code",
   "execution_count": 141,
   "id": "d2ac1796",
   "metadata": {
    "ExecuteTime": {
     "end_time": "2023-11-14T22:10:10.923937Z",
     "start_time": "2023-11-14T22:10:10.921270Z"
    }
   },
   "outputs": [],
   "source": [
    "out=flattenlayer(tensor)"
   ]
  },
  {
   "cell_type": "code",
   "execution_count": 142,
   "id": "9e1aca86",
   "metadata": {
    "ExecuteTime": {
     "end_time": "2023-11-14T22:10:12.318932Z",
     "start_time": "2023-11-14T22:10:12.315439Z"
    }
   },
   "outputs": [
    {
     "data": {
      "text/plain": [
       "torch.Size([1000])"
      ]
     },
     "execution_count": 142,
     "metadata": {},
     "output_type": "execute_result"
    }
   ],
   "source": [
    "out.shape"
   ]
  },
  {
   "cell_type": "code",
   "execution_count": null,
   "id": "149d981b",
   "metadata": {},
   "outputs": [],
   "source": []
  },
  {
   "cell_type": "code",
   "execution_count": null,
   "id": "2f020803",
   "metadata": {},
   "outputs": [],
   "source": []
  },
  {
   "cell_type": "code",
   "execution_count": null,
   "id": "c561e028",
   "metadata": {},
   "outputs": [],
   "source": []
  }
 ],
 "metadata": {
  "kernelspec": {
   "display_name": "Python 3",
   "language": "python",
   "name": "python3"
  },
  "language_info": {
   "codemirror_mode": {
    "name": "ipython",
    "version": 3
   },
   "file_extension": ".py",
   "mimetype": "text/x-python",
   "name": "python",
   "nbconvert_exporter": "python",
   "pygments_lexer": "ipython3",
   "version": "3.8.10"
  },
  "toc": {
   "base_numbering": 1,
   "nav_menu": {},
   "number_sections": false,
   "sideBar": true,
   "skip_h1_title": false,
   "title_cell": "Table of Contents",
   "title_sidebar": "Contents",
   "toc_cell": false,
   "toc_position": {},
   "toc_section_display": true,
   "toc_window_display": false
  }
 },
 "nbformat": 4,
 "nbformat_minor": 5
}
