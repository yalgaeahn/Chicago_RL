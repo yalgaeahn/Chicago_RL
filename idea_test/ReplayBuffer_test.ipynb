{
 "cells": [
  {
   "cell_type": "code",
   "execution_count": 2,
   "id": "648962cb",
   "metadata": {
    "ExecuteTime": {
     "end_time": "2023-11-16T14:44:47.860688Z",
     "start_time": "2023-11-16T14:44:45.528196Z"
    }
   },
   "outputs": [
    {
     "name": "stderr",
     "output_type": "stream",
     "text": [
      "/opt/conda/lib/python3.8/site-packages/scipy/__init__.py:146: UserWarning: A NumPy version >=1.16.5 and <1.23.0 is required for this version of SciPy (detected version 1.23.0\n",
      "  warnings.warn(f\"A NumPy version >={np_minversion} and <{np_maxversion}\"\n"
     ]
    }
   ],
   "source": [
    "from copy import deepcopy\n",
    "import numpy as np\n",
    "import torch\n",
    "from torch.optim import Adam\n",
    "import gym\n",
    "import time\n",
    "import core\n",
    "import torch.nn as nn"
   ]
  },
  {
   "cell_type": "code",
   "execution_count": 3,
   "id": "ccc3b67e",
   "metadata": {
    "ExecuteTime": {
     "end_time": "2023-11-16T14:44:48.005392Z",
     "start_time": "2023-11-16T14:44:47.862496Z"
    }
   },
   "outputs": [],
   "source": [
    "import gymnasium as gym\n",
    "import gym_examples\n",
    "import envelope"
   ]
  },
  {
   "cell_type": "code",
   "execution_count": 4,
   "id": "b20a1407",
   "metadata": {
    "ExecuteTime": {
     "end_time": "2023-11-16T14:44:48.021195Z",
     "start_time": "2023-11-16T14:44:48.010106Z"
    }
   },
   "outputs": [],
   "source": [
    "class ReplayBuffer:\n",
    "    \"\"\"\n",
    "    A simple FIFO experience replay buffer for DDPG agents.\n",
    "    \"\"\"\n",
    "\n",
    "    def __init__(self, obs_dim, act_dim, size):\n",
    "        self.obs_buf = np.zeros(core.combined_shape(size, obs_dim), dtype=np.float32)\n",
    "        self.obs2_buf = np.zeros(core.combined_shape(size, obs_dim), dtype=np.float32)\n",
    "        self.act_buf = np.zeros(core.combined_shape(size, act_dim), dtype=np.float32)\n",
    "        self.rew_buf = np.zeros(size, dtype=np.float32)\n",
    "        self.done_buf = np.zeros(size, dtype=np.float32)\n",
    "        self.ptr, self.size, self.max_size = 0, 0, size\n",
    "\n",
    "    def store(self, obs, act, rew, next_obs, done):\n",
    "        self.obs_buf[self.ptr] = obs\n",
    "        self.obs2_buf[self.ptr] = next_obs\n",
    "        self.act_buf[self.ptr] = act\n",
    "        self.rew_buf[self.ptr] = rew\n",
    "        self.done_buf[self.ptr] = done\n",
    "        self.ptr = (self.ptr+1) % self.max_size\n",
    "        self.size = min(self.size+1, self.max_size)\n",
    "\n",
    "    def sample_batch(self, batch_size=32):\n",
    "        idxs = np.random.randint(0, self.size, size=batch_size) #batch_size 만큼 ReplayBuffer(D)에서 random sampling\n",
    "        batch = dict(obs=self.obs_buf[idxs],\n",
    "                     obs2=self.obs2_buf[idxs],\n",
    "                     act=self.act_buf[idxs],\n",
    "                     rew=self.rew_buf[idxs],\n",
    "                     done=self.done_buf[idxs])\n",
    "        return {k: torch.as_tensor(v, dtype=torch.float32) for k,v in batch.items()}"
   ]
  },
  {
   "cell_type": "code",
   "execution_count": 10,
   "id": "26160fdf",
   "metadata": {
    "ExecuteTime": {
     "end_time": "2023-11-16T14:45:34.228319Z",
     "start_time": "2023-11-16T14:45:34.225041Z"
    }
   },
   "outputs": [],
   "source": [
    "D = ReplayBuffer(obs_dim = 1000, act_dim = 1000, size = int(1e6))"
   ]
  },
  {
   "cell_type": "code",
   "execution_count": 12,
   "id": "403c94cf",
   "metadata": {
    "ExecuteTime": {
     "end_time": "2023-11-16T14:45:38.541853Z",
     "start_time": "2023-11-16T14:45:38.521433Z"
    }
   },
   "outputs": [
    {
     "ename": "ValueError",
     "evalue": "high <= 0",
     "output_type": "error",
     "traceback": [
      "\u001b[0;31m---------------------------------------------------------------------------\u001b[0m",
      "\u001b[0;31mValueError\u001b[0m                                Traceback (most recent call last)",
      "\u001b[0;32m<ipython-input-12-296ece314d4b>\u001b[0m in \u001b[0;36m<module>\u001b[0;34m\u001b[0m\n\u001b[0;32m----> 1\u001b[0;31m \u001b[0mB\u001b[0m \u001b[0;34m=\u001b[0m \u001b[0mD\u001b[0m\u001b[0;34m.\u001b[0m\u001b[0msample_batch\u001b[0m\u001b[0;34m(\u001b[0m\u001b[0mbatch_size\u001b[0m\u001b[0;34m=\u001b[0m\u001b[0;36m32\u001b[0m\u001b[0;34m)\u001b[0m\u001b[0;34m\u001b[0m\u001b[0;34m\u001b[0m\u001b[0m\n\u001b[0m",
      "\u001b[0;32m<ipython-input-4-d5d1ec7a6ffd>\u001b[0m in \u001b[0;36msample_batch\u001b[0;34m(self, batch_size)\u001b[0m\n\u001b[1;32m     22\u001b[0m \u001b[0;34m\u001b[0m\u001b[0m\n\u001b[1;32m     23\u001b[0m     \u001b[0;32mdef\u001b[0m \u001b[0msample_batch\u001b[0m\u001b[0;34m(\u001b[0m\u001b[0mself\u001b[0m\u001b[0;34m,\u001b[0m \u001b[0mbatch_size\u001b[0m\u001b[0;34m=\u001b[0m\u001b[0;36m32\u001b[0m\u001b[0;34m)\u001b[0m\u001b[0;34m:\u001b[0m\u001b[0;34m\u001b[0m\u001b[0;34m\u001b[0m\u001b[0m\n\u001b[0;32m---> 24\u001b[0;31m         \u001b[0midxs\u001b[0m \u001b[0;34m=\u001b[0m \u001b[0mnp\u001b[0m\u001b[0;34m.\u001b[0m\u001b[0mrandom\u001b[0m\u001b[0;34m.\u001b[0m\u001b[0mrandint\u001b[0m\u001b[0;34m(\u001b[0m\u001b[0;36m0\u001b[0m\u001b[0;34m,\u001b[0m \u001b[0mself\u001b[0m\u001b[0;34m.\u001b[0m\u001b[0msize\u001b[0m\u001b[0;34m,\u001b[0m \u001b[0msize\u001b[0m\u001b[0;34m=\u001b[0m\u001b[0mbatch_size\u001b[0m\u001b[0;34m)\u001b[0m \u001b[0;31m#batch_size 만큼 ReplayBuffer(D)에서 random sampling\u001b[0m\u001b[0;34m\u001b[0m\u001b[0;34m\u001b[0m\u001b[0m\n\u001b[0m\u001b[1;32m     25\u001b[0m         batch = dict(obs=self.obs_buf[idxs],\n\u001b[1;32m     26\u001b[0m                      \u001b[0mobs2\u001b[0m\u001b[0;34m=\u001b[0m\u001b[0mself\u001b[0m\u001b[0;34m.\u001b[0m\u001b[0mobs2_buf\u001b[0m\u001b[0;34m[\u001b[0m\u001b[0midxs\u001b[0m\u001b[0;34m]\u001b[0m\u001b[0;34m,\u001b[0m\u001b[0;34m\u001b[0m\u001b[0;34m\u001b[0m\u001b[0m\n",
      "\u001b[0;32mmtrand.pyx\u001b[0m in \u001b[0;36mnumpy.random.mtrand.RandomState.randint\u001b[0;34m()\u001b[0m\n",
      "\u001b[0;32m_bounded_integers.pyx\u001b[0m in \u001b[0;36mnumpy.random._bounded_integers._rand_int64\u001b[0;34m()\u001b[0m\n",
      "\u001b[0;31mValueError\u001b[0m: high <= 0"
     ]
    }
   ],
   "source": [
    "B = D.sample_batch(batch_size=32)"
   ]
  },
  {
   "cell_type": "code",
   "execution_count": 18,
   "id": "766cba5d",
   "metadata": {
    "ExecuteTime": {
     "end_time": "2023-11-16T14:50:25.267574Z",
     "start_time": "2023-11-16T14:50:25.236891Z"
    }
   },
   "outputs": [
    {
     "name": "stderr",
     "output_type": "stream",
     "text": [
      "<ipython-input-18-20ba2ee0f664>:11: ComplexWarning: Casting complex values to real discards the imaginary part\n",
      "  initial_state = np.hstack((A(time).astype('float32'),B(time).astype('float32')))\n"
     ]
    }
   ],
   "source": [
    "Fs = 10\n",
    "N = 500\n",
    "trans_info = [[{'coeff': 1.0, 'amps': 5 * np.array([-0.0154, -0.011, -0.005414]), 'freqs': [6.48e-3, 5.622e-3, 3.7e-3]},\n",
    "               {'coeff': 0.01, 'amps': 5 * np.array([0.01237, -0.005816, -0.03928]), 'freqs': [0.01758, 0.005925, 0.002652]}],\n",
    "              [{'coeff': -0.01, 'amps': 5 * np.array([-0.01568, -0.01486, -0.0064]), 'freqs': [0.00737, 0.0072, -0.0039]},\n",
    "               {'coeff': 1.0, 'amps': 5 * np.array([-0.0154, -0.011, -0.005414]), 'freqs': [6.48e-3, 5.622e-3, 3.7e-3]}]]\n",
    "A = envelope.flattop(t0=5.,len=10.,amp=1.,w=1.)\n",
    "B = envelope.flattop(t0=15.,len=30.,amp=0.8,w=1.)\n",
    "time = np.arange(N) / Fs  # (ns) \n",
    "freq = np.fft.fftfreq(N, d=1/Fs) # (GHz)\n",
    "initial_state = np.hstack((A(time).astype('float32'),B(time).astype('float32'))) "
   ]
  },
  {
   "cell_type": "code",
   "execution_count": 19,
   "id": "eefb41cc",
   "metadata": {
    "ExecuteTime": {
     "end_time": "2023-11-16T14:50:26.279596Z",
     "start_time": "2023-11-16T14:50:26.251069Z"
    }
   },
   "outputs": [],
   "source": [
    "env = gym.make(id='gym_examples/Quantum', Fs=Fs, N=N, initial_state=initial_state,trans_info=trans_info)"
   ]
  },
  {
   "cell_type": "code",
   "execution_count": 40,
   "id": "5b7865e7",
   "metadata": {
    "ExecuteTime": {
     "end_time": "2023-11-16T15:08:00.281925Z",
     "start_time": "2023-11-16T15:08:00.279225Z"
    }
   },
   "outputs": [],
   "source": [
    "o = env.reset()[0]"
   ]
  },
  {
   "cell_type": "code",
   "execution_count": 41,
   "id": "8550065c",
   "metadata": {
    "ExecuteTime": {
     "end_time": "2023-11-16T15:08:00.925724Z",
     "start_time": "2023-11-16T15:08:00.901818Z"
    }
   },
   "outputs": [],
   "source": [
    " a = env.action_space.sample()"
   ]
  },
  {
   "cell_type": "code",
   "execution_count": 42,
   "id": "5bf21c25",
   "metadata": {
    "ExecuteTime": {
     "end_time": "2023-11-16T15:08:01.148042Z",
     "start_time": "2023-11-16T15:08:01.122936Z"
    }
   },
   "outputs": [],
   "source": [
    "o2, r, d, _, i = env.step(a)"
   ]
  },
  {
   "cell_type": "code",
   "execution_count": 43,
   "id": "4e2fb4ce",
   "metadata": {
    "ExecuteTime": {
     "end_time": "2023-11-16T15:08:01.316783Z",
     "start_time": "2023-11-16T15:08:01.312564Z"
    }
   },
   "outputs": [
    {
     "data": {
      "text/plain": [
       "(1000,)"
      ]
     },
     "execution_count": 43,
     "metadata": {},
     "output_type": "execute_result"
    }
   ],
   "source": [
    "o2.shape"
   ]
  },
  {
   "cell_type": "code",
   "execution_count": 44,
   "id": "e27ed0dc",
   "metadata": {
    "ExecuteTime": {
     "end_time": "2023-11-16T15:08:01.468554Z",
     "start_time": "2023-11-16T15:08:01.465654Z"
    }
   },
   "outputs": [],
   "source": [
    "D.store(o, a, r, o2, d)"
   ]
  },
  {
   "cell_type": "code",
   "execution_count": 45,
   "id": "2a0ca634",
   "metadata": {
    "ExecuteTime": {
     "end_time": "2023-11-16T15:08:01.622557Z",
     "start_time": "2023-11-16T15:08:01.618738Z"
    }
   },
   "outputs": [],
   "source": [
    "test_obs_buff = np.zeros(core.combined_shape(int(1e6), env.observation_space.shape), dtype=np.float32)"
   ]
  },
  {
   "cell_type": "code",
   "execution_count": 46,
   "id": "132d2748",
   "metadata": {
    "ExecuteTime": {
     "end_time": "2023-11-16T15:08:02.806614Z",
     "start_time": "2023-11-16T15:08:02.802792Z"
    }
   },
   "outputs": [
    {
     "data": {
      "text/plain": [
       "numpy.ndarray"
      ]
     },
     "execution_count": 46,
     "metadata": {},
     "output_type": "execute_result"
    }
   ],
   "source": [
    "type(test_obs_buff[0])"
   ]
  },
  {
   "cell_type": "code",
   "execution_count": 47,
   "id": "7eeb9aba",
   "metadata": {
    "ExecuteTime": {
     "end_time": "2023-11-16T15:08:03.193995Z",
     "start_time": "2023-11-16T15:08:03.190216Z"
    }
   },
   "outputs": [
    {
     "data": {
      "text/plain": [
       "numpy.ndarray"
      ]
     },
     "execution_count": 47,
     "metadata": {},
     "output_type": "execute_result"
    }
   ],
   "source": [
    "type(o)"
   ]
  },
  {
   "cell_type": "code",
   "execution_count": 48,
   "id": "82c93256",
   "metadata": {
    "ExecuteTime": {
     "end_time": "2023-11-16T15:08:03.390859Z",
     "start_time": "2023-11-16T15:08:03.386943Z"
    }
   },
   "outputs": [
    {
     "data": {
      "text/plain": [
       "numpy.ndarray"
      ]
     },
     "execution_count": 48,
     "metadata": {},
     "output_type": "execute_result"
    }
   ],
   "source": [
    "type(a)"
   ]
  },
  {
   "cell_type": "code",
   "execution_count": 39,
   "id": "9341a935",
   "metadata": {
    "ExecuteTime": {
     "end_time": "2023-11-16T15:07:21.390581Z",
     "start_time": "2023-11-16T15:07:21.386800Z"
    }
   },
   "outputs": [
    {
     "data": {
      "text/plain": [
       "numpy.ndarray"
      ]
     },
     "execution_count": 39,
     "metadata": {},
     "output_type": "execute_result"
    }
   ],
   "source": [
    "type(o2)"
   ]
  },
  {
   "cell_type": "code",
   "execution_count": null,
   "id": "42a8692b",
   "metadata": {},
   "outputs": [],
   "source": []
  }
 ],
 "metadata": {
  "kernelspec": {
   "display_name": "Python 3",
   "language": "python",
   "name": "python3"
  },
  "language_info": {
   "codemirror_mode": {
    "name": "ipython",
    "version": 3
   },
   "file_extension": ".py",
   "mimetype": "text/x-python",
   "name": "python",
   "nbconvert_exporter": "python",
   "pygments_lexer": "ipython3",
   "version": "3.8.10"
  },
  "toc": {
   "base_numbering": 1,
   "nav_menu": {},
   "number_sections": false,
   "sideBar": true,
   "skip_h1_title": false,
   "title_cell": "Table of Contents",
   "title_sidebar": "Contents",
   "toc_cell": false,
   "toc_position": {},
   "toc_section_display": true,
   "toc_window_display": false
  }
 },
 "nbformat": 4,
 "nbformat_minor": 5
}
